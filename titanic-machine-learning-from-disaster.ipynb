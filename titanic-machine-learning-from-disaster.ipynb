{
 "cells": [
  {
   "cell_type": "code",
   "execution_count": 1,
   "id": "79be0803",
   "metadata": {
    "_cell_guid": "b1076dfc-b9ad-4769-8c92-a6c4dae69d19",
    "_uuid": "8f2839f25d086af736a60e9eeb907d3b93b6e0e5",
    "execution": {
     "iopub.execute_input": "2025-10-25T15:29:22.397207Z",
     "iopub.status.busy": "2025-10-25T15:29:22.396516Z",
     "iopub.status.idle": "2025-10-25T15:29:24.218538Z",
     "shell.execute_reply": "2025-10-25T15:29:24.217628Z"
    },
    "papermill": {
     "duration": 1.833752,
     "end_time": "2025-10-25T15:29:24.220136",
     "exception": false,
     "start_time": "2025-10-25T15:29:22.386384",
     "status": "completed"
    },
    "tags": []
   },
   "outputs": [
    {
     "name": "stdout",
     "output_type": "stream",
     "text": [
      "/kaggle/input/titanic/train.csv\n",
      "/kaggle/input/titanic/test.csv\n",
      "/kaggle/input/titanic/gender_submission.csv\n"
     ]
    }
   ],
   "source": [
    "# This Python 3 environment comes with many helpful analytics libraries installed\n",
    "# It is defined by the kaggle/python Docker image: https://github.com/kaggle/docker-python\n",
    "# For example, here's several helpful packages to load\n",
    "\n",
    "import numpy as np # linear algebra\n",
    "import pandas as pd # data processing, CSV file I/O (e.g. pd.read_csv)\n",
    "\n",
    "# Input data files are available in the read-only \"../input/\" directory\n",
    "# For example, running this (by clicking run or pressing Shift+Enter) will list all files under the input directory\n",
    "\n",
    "import os\n",
    "for dirname, _, filenames in os.walk('/kaggle/input'):\n",
    "    for filename in filenames:\n",
    "        print(os.path.join(dirname, filename))\n",
    "\n",
    "# You can write up to 20GB to the current directory (/kaggle/working/) that gets preserved as output when you create a version using \"Save & Run All\" \n",
    "# You can also write temporary files to /kaggle/temp/, but they won't be saved outside of the current session"
   ]
  },
  {
   "cell_type": "code",
   "execution_count": 2,
   "id": "06f7a5d9",
   "metadata": {
    "execution": {
     "iopub.execute_input": "2025-10-25T15:29:24.238048Z",
     "iopub.status.busy": "2025-10-25T15:29:24.237633Z",
     "iopub.status.idle": "2025-10-25T15:29:24.271062Z",
     "shell.execute_reply": "2025-10-25T15:29:24.270191Z"
    },
    "papermill": {
     "duration": 0.043953,
     "end_time": "2025-10-25T15:29:24.272659",
     "exception": false,
     "start_time": "2025-10-25T15:29:24.228706",
     "status": "completed"
    },
    "tags": []
   },
   "outputs": [],
   "source": [
    "df_train = pd.read_csv('/kaggle/input/titanic/train.csv')\n",
    "df_test = pd.read_csv('/kaggle/input/titanic/test.csv')"
   ]
  },
  {
   "cell_type": "code",
   "execution_count": 3,
   "id": "197e93f0",
   "metadata": {
    "execution": {
     "iopub.execute_input": "2025-10-25T15:29:24.290294Z",
     "iopub.status.busy": "2025-10-25T15:29:24.289630Z",
     "iopub.status.idle": "2025-10-25T15:29:24.315417Z",
     "shell.execute_reply": "2025-10-25T15:29:24.314496Z"
    },
    "papermill": {
     "duration": 0.03637,
     "end_time": "2025-10-25T15:29:24.317210",
     "exception": false,
     "start_time": "2025-10-25T15:29:24.280840",
     "status": "completed"
    },
    "tags": []
   },
   "outputs": [
    {
     "data": {
      "text/html": [
       "<div>\n",
       "<style scoped>\n",
       "    .dataframe tbody tr th:only-of-type {\n",
       "        vertical-align: middle;\n",
       "    }\n",
       "\n",
       "    .dataframe tbody tr th {\n",
       "        vertical-align: top;\n",
       "    }\n",
       "\n",
       "    .dataframe thead th {\n",
       "        text-align: right;\n",
       "    }\n",
       "</style>\n",
       "<table border=\"1\" class=\"dataframe\">\n",
       "  <thead>\n",
       "    <tr style=\"text-align: right;\">\n",
       "      <th></th>\n",
       "      <th>PassengerId</th>\n",
       "      <th>Survived</th>\n",
       "      <th>Pclass</th>\n",
       "      <th>Name</th>\n",
       "      <th>Sex</th>\n",
       "      <th>Age</th>\n",
       "      <th>SibSp</th>\n",
       "      <th>Parch</th>\n",
       "      <th>Ticket</th>\n",
       "      <th>Fare</th>\n",
       "      <th>Cabin</th>\n",
       "      <th>Embarked</th>\n",
       "    </tr>\n",
       "  </thead>\n",
       "  <tbody>\n",
       "    <tr>\n",
       "      <th>0</th>\n",
       "      <td>1</td>\n",
       "      <td>0</td>\n",
       "      <td>3</td>\n",
       "      <td>Braund, Mr. Owen Harris</td>\n",
       "      <td>male</td>\n",
       "      <td>22.0</td>\n",
       "      <td>1</td>\n",
       "      <td>0</td>\n",
       "      <td>A/5 21171</td>\n",
       "      <td>7.2500</td>\n",
       "      <td>NaN</td>\n",
       "      <td>S</td>\n",
       "    </tr>\n",
       "    <tr>\n",
       "      <th>1</th>\n",
       "      <td>2</td>\n",
       "      <td>1</td>\n",
       "      <td>1</td>\n",
       "      <td>Cumings, Mrs. John Bradley (Florence Briggs Th...</td>\n",
       "      <td>female</td>\n",
       "      <td>38.0</td>\n",
       "      <td>1</td>\n",
       "      <td>0</td>\n",
       "      <td>PC 17599</td>\n",
       "      <td>71.2833</td>\n",
       "      <td>C85</td>\n",
       "      <td>C</td>\n",
       "    </tr>\n",
       "    <tr>\n",
       "      <th>2</th>\n",
       "      <td>3</td>\n",
       "      <td>1</td>\n",
       "      <td>3</td>\n",
       "      <td>Heikkinen, Miss. Laina</td>\n",
       "      <td>female</td>\n",
       "      <td>26.0</td>\n",
       "      <td>0</td>\n",
       "      <td>0</td>\n",
       "      <td>STON/O2. 3101282</td>\n",
       "      <td>7.9250</td>\n",
       "      <td>NaN</td>\n",
       "      <td>S</td>\n",
       "    </tr>\n",
       "  </tbody>\n",
       "</table>\n",
       "</div>"
      ],
      "text/plain": [
       "   PassengerId  Survived  Pclass  \\\n",
       "0            1         0       3   \n",
       "1            2         1       1   \n",
       "2            3         1       3   \n",
       "\n",
       "                                                Name     Sex   Age  SibSp  \\\n",
       "0                            Braund, Mr. Owen Harris    male  22.0      1   \n",
       "1  Cumings, Mrs. John Bradley (Florence Briggs Th...  female  38.0      1   \n",
       "2                             Heikkinen, Miss. Laina  female  26.0      0   \n",
       "\n",
       "   Parch            Ticket     Fare Cabin Embarked  \n",
       "0      0         A/5 21171   7.2500   NaN        S  \n",
       "1      0          PC 17599  71.2833   C85        C  \n",
       "2      0  STON/O2. 3101282   7.9250   NaN        S  "
      ]
     },
     "execution_count": 3,
     "metadata": {},
     "output_type": "execute_result"
    }
   ],
   "source": [
    "df_train.head(3)"
   ]
  },
  {
   "cell_type": "code",
   "execution_count": 4,
   "id": "c75e5c50",
   "metadata": {
    "execution": {
     "iopub.execute_input": "2025-10-25T15:29:24.335602Z",
     "iopub.status.busy": "2025-10-25T15:29:24.334942Z",
     "iopub.status.idle": "2025-10-25T15:29:24.359398Z",
     "shell.execute_reply": "2025-10-25T15:29:24.358376Z"
    },
    "papermill": {
     "duration": 0.035007,
     "end_time": "2025-10-25T15:29:24.360878",
     "exception": false,
     "start_time": "2025-10-25T15:29:24.325871",
     "status": "completed"
    },
    "tags": []
   },
   "outputs": [
    {
     "name": "stdout",
     "output_type": "stream",
     "text": [
      "<class 'pandas.core.frame.DataFrame'>\n",
      "RangeIndex: 891 entries, 0 to 890\n",
      "Data columns (total 12 columns):\n",
      " #   Column       Non-Null Count  Dtype  \n",
      "---  ------       --------------  -----  \n",
      " 0   PassengerId  891 non-null    int64  \n",
      " 1   Survived     891 non-null    int64  \n",
      " 2   Pclass       891 non-null    int64  \n",
      " 3   Name         891 non-null    object \n",
      " 4   Sex          891 non-null    object \n",
      " 5   Age          714 non-null    float64\n",
      " 6   SibSp        891 non-null    int64  \n",
      " 7   Parch        891 non-null    int64  \n",
      " 8   Ticket       891 non-null    object \n",
      " 9   Fare         891 non-null    float64\n",
      " 10  Cabin        204 non-null    object \n",
      " 11  Embarked     889 non-null    object \n",
      "dtypes: float64(2), int64(5), object(5)\n",
      "memory usage: 83.7+ KB\n"
     ]
    }
   ],
   "source": [
    "df_train.info()"
   ]
  },
  {
   "cell_type": "markdown",
   "id": "6dd4ac46",
   "metadata": {
    "papermill": {
     "duration": 0.007923,
     "end_time": "2025-10-25T15:29:24.377330",
     "exception": false,
     "start_time": "2025-10-25T15:29:24.369407",
     "status": "completed"
    },
    "tags": []
   },
   "source": [
    "## Data cleaning"
   ]
  },
  {
   "cell_type": "code",
   "execution_count": 5,
   "id": "3c8a771b",
   "metadata": {
    "execution": {
     "iopub.execute_input": "2025-10-25T15:29:24.395021Z",
     "iopub.status.busy": "2025-10-25T15:29:24.394710Z",
     "iopub.status.idle": "2025-10-25T15:29:24.401600Z",
     "shell.execute_reply": "2025-10-25T15:29:24.400857Z"
    },
    "papermill": {
     "duration": 0.017343,
     "end_time": "2025-10-25T15:29:24.402803",
     "exception": false,
     "start_time": "2025-10-25T15:29:24.385460",
     "status": "completed"
    },
    "tags": []
   },
   "outputs": [
    {
     "data": {
      "text/plain": [
       "PassengerId      0\n",
       "Survived         0\n",
       "Pclass           0\n",
       "Name             0\n",
       "Sex              0\n",
       "Age            177\n",
       "SibSp            0\n",
       "Parch            0\n",
       "Ticket           0\n",
       "Fare             0\n",
       "Cabin          687\n",
       "Embarked         2\n",
       "dtype: int64"
      ]
     },
     "execution_count": 5,
     "metadata": {},
     "output_type": "execute_result"
    }
   ],
   "source": [
    "#Check missing values\n",
    "df_train.isnull().sum()"
   ]
  },
  {
   "cell_type": "code",
   "execution_count": 6,
   "id": "c609b041",
   "metadata": {
    "execution": {
     "iopub.execute_input": "2025-10-25T15:29:24.420563Z",
     "iopub.status.busy": "2025-10-25T15:29:24.420275Z",
     "iopub.status.idle": "2025-10-25T15:29:24.427660Z",
     "shell.execute_reply": "2025-10-25T15:29:24.426927Z"
    },
    "papermill": {
     "duration": 0.017676,
     "end_time": "2025-10-25T15:29:24.428921",
     "exception": false,
     "start_time": "2025-10-25T15:29:24.411245",
     "status": "completed"
    },
    "tags": []
   },
   "outputs": [],
   "source": [
    "#Let's drop Cabin column as it has many null value\n",
    "df_train.drop('Cabin', axis = 1, inplace = True)"
   ]
  },
  {
   "cell_type": "code",
   "execution_count": 7,
   "id": "86ccfbb6",
   "metadata": {
    "execution": {
     "iopub.execute_input": "2025-10-25T15:29:24.446946Z",
     "iopub.status.busy": "2025-10-25T15:29:24.446300Z",
     "iopub.status.idle": "2025-10-25T15:29:24.451276Z",
     "shell.execute_reply": "2025-10-25T15:29:24.450461Z"
    },
    "papermill": {
     "duration": 0.015369,
     "end_time": "2025-10-25T15:29:24.452671",
     "exception": false,
     "start_time": "2025-10-25T15:29:24.437302",
     "status": "completed"
    },
    "tags": []
   },
   "outputs": [],
   "source": [
    "#Fill null values in Age column with mean\n",
    "df_train['Age'] = df_train['Age'].fillna(df_train['Age'].mean())"
   ]
  },
  {
   "cell_type": "code",
   "execution_count": 8,
   "id": "e6d7b8c4",
   "metadata": {
    "execution": {
     "iopub.execute_input": "2025-10-25T15:29:24.470825Z",
     "iopub.status.busy": "2025-10-25T15:29:24.470554Z",
     "iopub.status.idle": "2025-10-25T15:29:24.477900Z",
     "shell.execute_reply": "2025-10-25T15:29:24.477147Z"
    },
    "papermill": {
     "duration": 0.018126,
     "end_time": "2025-10-25T15:29:24.479449",
     "exception": false,
     "start_time": "2025-10-25T15:29:24.461323",
     "status": "completed"
    },
    "tags": []
   },
   "outputs": [
    {
     "data": {
      "text/plain": [
       "PassengerId    0\n",
       "Survived       0\n",
       "Pclass         0\n",
       "Name           0\n",
       "Sex            0\n",
       "Age            0\n",
       "SibSp          0\n",
       "Parch          0\n",
       "Ticket         0\n",
       "Fare           0\n",
       "Embarked       2\n",
       "dtype: int64"
      ]
     },
     "execution_count": 8,
     "metadata": {},
     "output_type": "execute_result"
    }
   ],
   "source": [
    "df_train.isnull().sum()"
   ]
  },
  {
   "cell_type": "code",
   "execution_count": 9,
   "id": "ed29210b",
   "metadata": {
    "execution": {
     "iopub.execute_input": "2025-10-25T15:29:24.497698Z",
     "iopub.status.busy": "2025-10-25T15:29:24.497441Z",
     "iopub.status.idle": "2025-10-25T15:29:24.502995Z",
     "shell.execute_reply": "2025-10-25T15:29:24.502303Z"
    },
    "papermill": {
     "duration": 0.016206,
     "end_time": "2025-10-25T15:29:24.504343",
     "exception": false,
     "start_time": "2025-10-25T15:29:24.488137",
     "status": "completed"
    },
    "tags": []
   },
   "outputs": [],
   "source": [
    "#Let's fill Embarked value with mode\n",
    "df_train['Embarked'] = df_train['Embarked'].fillna(df_train['Embarked'].mode()[0])"
   ]
  },
  {
   "cell_type": "code",
   "execution_count": 10,
   "id": "00c0d91b",
   "metadata": {
    "execution": {
     "iopub.execute_input": "2025-10-25T15:29:24.522643Z",
     "iopub.status.busy": "2025-10-25T15:29:24.522351Z",
     "iopub.status.idle": "2025-10-25T15:29:24.530322Z",
     "shell.execute_reply": "2025-10-25T15:29:24.529430Z"
    },
    "papermill": {
     "duration": 0.018988,
     "end_time": "2025-10-25T15:29:24.531666",
     "exception": false,
     "start_time": "2025-10-25T15:29:24.512678",
     "status": "completed"
    },
    "tags": []
   },
   "outputs": [
    {
     "data": {
      "text/plain": [
       "PassengerId    0\n",
       "Survived       0\n",
       "Pclass         0\n",
       "Name           0\n",
       "Sex            0\n",
       "Age            0\n",
       "SibSp          0\n",
       "Parch          0\n",
       "Ticket         0\n",
       "Fare           0\n",
       "Embarked       0\n",
       "dtype: int64"
      ]
     },
     "execution_count": 10,
     "metadata": {},
     "output_type": "execute_result"
    }
   ],
   "source": [
    "df_train.isnull().sum()"
   ]
  },
  {
   "cell_type": "code",
   "execution_count": 11,
   "id": "fd1df4b0",
   "metadata": {
    "execution": {
     "iopub.execute_input": "2025-10-25T15:29:24.549756Z",
     "iopub.status.busy": "2025-10-25T15:29:24.549470Z",
     "iopub.status.idle": "2025-10-25T15:29:26.718897Z",
     "shell.execute_reply": "2025-10-25T15:29:26.718044Z"
    },
    "papermill": {
     "duration": 2.180218,
     "end_time": "2025-10-25T15:29:26.720541",
     "exception": false,
     "start_time": "2025-10-25T15:29:24.540323",
     "status": "completed"
    },
    "tags": []
   },
   "outputs": [
    {
     "data": {
      "text/plain": [
       "<Axes: >"
      ]
     },
     "execution_count": 11,
     "metadata": {},
     "output_type": "execute_result"
    },
    {
     "data": {
      "image/png": "[encoded data removed]",
      "text/plain": [
       "<Figure size 640x480 with 2 Axes>"
      ]
     },
     "metadata": {},
     "output_type": "display_data"
    }
   ],
   "source": [
    "import seaborn as sns\n",
    "sns.heatmap(df_train.isnull())"
   ]
  },
  {
   "cell_type": "code",
   "execution_count": 12,
   "id": "a4753f7b",
   "metadata": {
    "execution": {
     "iopub.execute_input": "2025-10-25T15:29:26.740621Z",
     "iopub.status.busy": "2025-10-25T15:29:26.740198Z",
     "iopub.status.idle": "2025-10-25T15:29:26.747850Z",
     "shell.execute_reply": "2025-10-25T15:29:26.747045Z"
    },
    "papermill": {
     "duration": 0.018994,
     "end_time": "2025-10-25T15:29:26.749246",
     "exception": false,
     "start_time": "2025-10-25T15:29:26.730252",
     "status": "completed"
    },
    "tags": []
   },
   "outputs": [
    {
     "data": {
      "text/plain": [
       "PassengerId      0\n",
       "Pclass           0\n",
       "Name             0\n",
       "Sex              0\n",
       "Age             86\n",
       "SibSp            0\n",
       "Parch            0\n",
       "Ticket           0\n",
       "Fare             1\n",
       "Cabin          327\n",
       "Embarked         0\n",
       "dtype: int64"
      ]
     },
     "execution_count": 12,
     "metadata": {},
     "output_type": "execute_result"
    }
   ],
   "source": [
    "## We will perform the same thing with test data as well. \n",
    "df_test.isnull().sum()"
   ]
  },
  {
   "cell_type": "code",
   "execution_count": 13,
   "id": "2fddaea9",
   "metadata": {
    "execution": {
     "iopub.execute_input": "2025-10-25T15:29:26.770270Z",
     "iopub.status.busy": "2025-10-25T15:29:26.769947Z",
     "iopub.status.idle": "2025-10-25T15:29:26.777215Z",
     "shell.execute_reply": "2025-10-25T15:29:26.776444Z"
    },
    "papermill": {
     "duration": 0.019514,
     "end_time": "2025-10-25T15:29:26.778520",
     "exception": false,
     "start_time": "2025-10-25T15:29:26.759006",
     "status": "completed"
    },
    "tags": []
   },
   "outputs": [],
   "source": [
    "#Let's drop Cabin column as it has many null value\n",
    "df_test.drop('Cabin', axis = 1, inplace = True)\n",
    "\n",
    "#Fill null values in Age column with mean\n",
    "df_test['Age'] = df_test['Age'].fillna(df_test['Age'].mean())\n",
    "\n",
    "#Fill Embarked missing value with mode\n",
    "df_test['Fare'] = df_test['Fare'].fillna(df_test['Fare'].mean())"
   ]
  },
  {
   "cell_type": "code",
   "execution_count": 14,
   "id": "59314096",
   "metadata": {
    "execution": {
     "iopub.execute_input": "2025-10-25T15:29:26.798133Z",
     "iopub.status.busy": "2025-10-25T15:29:26.797814Z",
     "iopub.status.idle": "2025-10-25T15:29:26.803129Z",
     "shell.execute_reply": "2025-10-25T15:29:26.802331Z"
    },
    "papermill": {
     "duration": 0.016675,
     "end_time": "2025-10-25T15:29:26.804424",
     "exception": false,
     "start_time": "2025-10-25T15:29:26.787749",
     "status": "completed"
    },
    "tags": []
   },
   "outputs": [
    {
     "data": {
      "text/plain": [
       "(418, 10)"
      ]
     },
     "execution_count": 14,
     "metadata": {},
     "output_type": "execute_result"
    }
   ],
   "source": [
    "df_test.shape"
   ]
  },
  {
   "cell_type": "code",
   "execution_count": 15,
   "id": "d7f7f275",
   "metadata": {
    "execution": {
     "iopub.execute_input": "2025-10-25T15:29:26.824079Z",
     "iopub.status.busy": "2025-10-25T15:29:26.823736Z",
     "iopub.status.idle": "2025-10-25T15:29:27.210080Z",
     "shell.execute_reply": "2025-10-25T15:29:27.209032Z"
    },
    "papermill": {
     "duration": 0.39822,
     "end_time": "2025-10-25T15:29:27.211864",
     "exception": false,
     "start_time": "2025-10-25T15:29:26.813644",
     "status": "completed"
    },
    "tags": []
   },
   "outputs": [
    {
     "data": {
      "text/plain": [
       "<Axes: >"
      ]
     },
     "execution_count": 15,
     "metadata": {},
     "output_type": "execute_result"
    },
    {
     "data": {
      "image/png": "[encoded data removed]",
      "text/plain": [
       "<Figure size 640x480 with 2 Axes>"
      ]
     },
     "metadata": {},
     "output_type": "display_data"
    }
   ],
   "source": [
    "sns.heatmap(df_test.isnull())"
   ]
  },
  {
   "cell_type": "code",
   "execution_count": 16,
   "id": "6a4a6230",
   "metadata": {
    "execution": {
     "iopub.execute_input": "2025-10-25T15:29:27.233719Z",
     "iopub.status.busy": "2025-10-25T15:29:27.233424Z",
     "iopub.status.idle": "2025-10-25T15:29:27.242494Z",
     "shell.execute_reply": "2025-10-25T15:29:27.241564Z"
    },
    "papermill": {
     "duration": 0.021543,
     "end_time": "2025-10-25T15:29:27.243856",
     "exception": false,
     "start_time": "2025-10-25T15:29:27.222313",
     "status": "completed"
    },
    "tags": []
   },
   "outputs": [
    {
     "data": {
      "text/plain": [
       "0"
      ]
     },
     "execution_count": 16,
     "metadata": {},
     "output_type": "execute_result"
    }
   ],
   "source": [
    "df_train.duplicated().sum()"
   ]
  },
  {
   "cell_type": "markdown",
   "id": "5de3c758",
   "metadata": {
    "papermill": {
     "duration": 0.009847,
     "end_time": "2025-10-25T15:29:27.263893",
     "exception": false,
     "start_time": "2025-10-25T15:29:27.254046",
     "status": "completed"
    },
    "tags": []
   },
   "source": [
    "* No duplicate value found"
   ]
  },
  {
   "cell_type": "markdown",
   "id": "1114aa53",
   "metadata": {
    "papermill": {
     "duration": 0.0098,
     "end_time": "2025-10-25T15:29:27.284214",
     "exception": false,
     "start_time": "2025-10-25T15:29:27.274414",
     "status": "completed"
    },
    "tags": []
   },
   "source": [
    "## Data Featuring"
   ]
  },
  {
   "cell_type": "code",
   "execution_count": 17,
   "id": "79d070f5",
   "metadata": {
    "execution": {
     "iopub.execute_input": "2025-10-25T15:29:27.305854Z",
     "iopub.status.busy": "2025-10-25T15:29:27.305545Z",
     "iopub.status.idle": "2025-10-25T15:29:27.317569Z",
     "shell.execute_reply": "2025-10-25T15:29:27.316730Z"
    },
    "papermill": {
     "duration": 0.024617,
     "end_time": "2025-10-25T15:29:27.318881",
     "exception": false,
     "start_time": "2025-10-25T15:29:27.294264",
     "status": "completed"
    },
    "tags": []
   },
   "outputs": [
    {
     "data": {
      "text/html": [
       "<div>\n",
       "<style scoped>\n",
       "    .dataframe tbody tr th:only-of-type {\n",
       "        vertical-align: middle;\n",
       "    }\n",
       "\n",
       "    .dataframe tbody tr th {\n",
       "        vertical-align: top;\n",
       "    }\n",
       "\n",
       "    .dataframe thead th {\n",
       "        text-align: right;\n",
       "    }\n",
       "</style>\n",
       "<table border=\"1\" class=\"dataframe\">\n",
       "  <thead>\n",
       "    <tr style=\"text-align: right;\">\n",
       "      <th></th>\n",
       "      <th>PassengerId</th>\n",
       "      <th>Survived</th>\n",
       "      <th>Pclass</th>\n",
       "      <th>Name</th>\n",
       "      <th>Sex</th>\n",
       "      <th>Age</th>\n",
       "      <th>SibSp</th>\n",
       "      <th>Parch</th>\n",
       "      <th>Ticket</th>\n",
       "      <th>Fare</th>\n",
       "      <th>Embarked</th>\n",
       "    </tr>\n",
       "  </thead>\n",
       "  <tbody>\n",
       "    <tr>\n",
       "      <th>0</th>\n",
       "      <td>1</td>\n",
       "      <td>0</td>\n",
       "      <td>3</td>\n",
       "      <td>Braund, Mr. Owen Harris</td>\n",
       "      <td>male</td>\n",
       "      <td>22.0</td>\n",
       "      <td>1</td>\n",
       "      <td>0</td>\n",
       "      <td>A/5 21171</td>\n",
       "      <td>7.2500</td>\n",
       "      <td>S</td>\n",
       "    </tr>\n",
       "    <tr>\n",
       "      <th>1</th>\n",
       "      <td>2</td>\n",
       "      <td>1</td>\n",
       "      <td>1</td>\n",
       "      <td>Cumings, Mrs. John Bradley (Florence Briggs Th...</td>\n",
       "      <td>female</td>\n",
       "      <td>38.0</td>\n",
       "      <td>1</td>\n",
       "      <td>0</td>\n",
       "      <td>PC 17599</td>\n",
       "      <td>71.2833</td>\n",
       "      <td>C</td>\n",
       "    </tr>\n",
       "    <tr>\n",
       "      <th>2</th>\n",
       "      <td>3</td>\n",
       "      <td>1</td>\n",
       "      <td>3</td>\n",
       "      <td>Heikkinen, Miss. Laina</td>\n",
       "      <td>female</td>\n",
       "      <td>26.0</td>\n",
       "      <td>0</td>\n",
       "      <td>0</td>\n",
       "      <td>STON/O2. 3101282</td>\n",
       "      <td>7.9250</td>\n",
       "      <td>S</td>\n",
       "    </tr>\n",
       "  </tbody>\n",
       "</table>\n",
       "</div>"
      ],
      "text/plain": [
       "   PassengerId  Survived  Pclass  \\\n",
       "0            1         0       3   \n",
       "1            2         1       1   \n",
       "2            3         1       3   \n",
       "\n",
       "                                                Name     Sex   Age  SibSp  \\\n",
       "0                            Braund, Mr. Owen Harris    male  22.0      1   \n",
       "1  Cumings, Mrs. John Bradley (Florence Briggs Th...  female  38.0      1   \n",
       "2                             Heikkinen, Miss. Laina  female  26.0      0   \n",
       "\n",
       "   Parch            Ticket     Fare Embarked  \n",
       "0      0         A/5 21171   7.2500        S  \n",
       "1      0          PC 17599  71.2833        C  \n",
       "2      0  STON/O2. 3101282   7.9250        S  "
      ]
     },
     "execution_count": 17,
     "metadata": {},
     "output_type": "execute_result"
    }
   ],
   "source": [
    "df_train.head(3)"
   ]
  },
  {
   "cell_type": "code",
   "execution_count": 18,
   "id": "f5b592e4",
   "metadata": {
    "execution": {
     "iopub.execute_input": "2025-10-25T15:29:27.341525Z",
     "iopub.status.busy": "2025-10-25T15:29:27.340828Z",
     "iopub.status.idle": "2025-10-25T15:29:27.346736Z",
     "shell.execute_reply": "2025-10-25T15:29:27.346025Z"
    },
    "papermill": {
     "duration": 0.018676,
     "end_time": "2025-10-25T15:29:27.348042",
     "exception": false,
     "start_time": "2025-10-25T15:29:27.329366",
     "status": "completed"
    },
    "tags": []
   },
   "outputs": [],
   "source": [
    "## Title extraction:\n",
    "df_train['Title'] = df_train['Name'].str.extract(' ([A-Za-z]+)\\.', expand=False)"
   ]
  },
  {
   "cell_type": "code",
   "execution_count": 19,
   "id": "f43c4bc6",
   "metadata": {
    "execution": {
     "iopub.execute_input": "2025-10-25T15:29:27.370057Z",
     "iopub.status.busy": "2025-10-25T15:29:27.369721Z",
     "iopub.status.idle": "2025-10-25T15:29:27.377412Z",
     "shell.execute_reply": "2025-10-25T15:29:27.376461Z"
    },
    "papermill": {
     "duration": 0.020377,
     "end_time": "2025-10-25T15:29:27.378711",
     "exception": false,
     "start_time": "2025-10-25T15:29:27.358334",
     "status": "completed"
    },
    "tags": []
   },
   "outputs": [
    {
     "data": {
      "text/plain": [
       "Title\n",
       "Mr          517\n",
       "Miss        182\n",
       "Mrs         125\n",
       "Master       40\n",
       "Dr            7\n",
       "Rev           6\n",
       "Mlle          2\n",
       "Major         2\n",
       "Col           2\n",
       "Countess      1\n",
       "Capt          1\n",
       "Ms            1\n",
       "Sir           1\n",
       "Lady          1\n",
       "Mme           1\n",
       "Don           1\n",
       "Jonkheer      1\n",
       "Name: count, dtype: int64"
      ]
     },
     "execution_count": 19,
     "metadata": {},
     "output_type": "execute_result"
    }
   ],
   "source": [
    "df_train['Title'].value_counts()"
   ]
  },
  {
   "cell_type": "code",
   "execution_count": 20,
   "id": "1d097b04",
   "metadata": {
    "execution": {
     "iopub.execute_input": "2025-10-25T15:29:27.400924Z",
     "iopub.status.busy": "2025-10-25T15:29:27.400621Z",
     "iopub.status.idle": "2025-10-25T15:29:27.410390Z",
     "shell.execute_reply": "2025-10-25T15:29:27.409510Z"
    },
    "papermill": {
     "duration": 0.022522,
     "end_time": "2025-10-25T15:29:27.411799",
     "exception": false,
     "start_time": "2025-10-25T15:29:27.389277",
     "status": "completed"
    },
    "tags": []
   },
   "outputs": [],
   "source": [
    "## Let's group rare titles\n",
    "rare_titles = ['Lady', 'Countess','Capt', 'Col','Don', 'Dr', 'Major', 'Rev', 'Sir', 'Jonkheer', 'Dona']\n",
    "df_train['Title'] = df_train['Title'].replace(rare_titles, 'Rare')\n",
    "df_train['Title'] = df_train['Title'].replace({'Mlle':'Miss', 'Ms':'Miss', 'Mme':'Mrs'})"
   ]
  },
  {
   "cell_type": "code",
   "execution_count": 21,
   "id": "06970ae7",
   "metadata": {
    "execution": {
     "iopub.execute_input": "2025-10-25T15:29:27.433965Z",
     "iopub.status.busy": "2025-10-25T15:29:27.433678Z",
     "iopub.status.idle": "2025-10-25T15:29:27.441015Z",
     "shell.execute_reply": "2025-10-25T15:29:27.440152Z"
    },
    "papermill": {
     "duration": 0.020084,
     "end_time": "2025-10-25T15:29:27.442427",
     "exception": false,
     "start_time": "2025-10-25T15:29:27.422343",
     "status": "completed"
    },
    "tags": []
   },
   "outputs": [
    {
     "data": {
      "text/plain": [
       "Title\n",
       "Mr        517\n",
       "Miss      185\n",
       "Mrs       126\n",
       "Master     40\n",
       "Rare       23\n",
       "Name: count, dtype: int64"
      ]
     },
     "execution_count": 21,
     "metadata": {},
     "output_type": "execute_result"
    }
   ],
   "source": [
    "df_train['Title'].value_counts()"
   ]
  },
  {
   "cell_type": "code",
   "execution_count": 22,
   "id": "878781b7",
   "metadata": {
    "execution": {
     "iopub.execute_input": "2025-10-25T15:29:27.465385Z",
     "iopub.status.busy": "2025-10-25T15:29:27.465066Z",
     "iopub.status.idle": "2025-10-25T15:29:27.471869Z",
     "shell.execute_reply": "2025-10-25T15:29:27.470938Z"
    },
    "papermill": {
     "duration": 0.020429,
     "end_time": "2025-10-25T15:29:27.473351",
     "exception": false,
     "start_time": "2025-10-25T15:29:27.452922",
     "status": "completed"
    },
    "tags": []
   },
   "outputs": [],
   "source": [
    "# Family size feature\n",
    "df_train['FamilySize'] = df_train['SibSp'] + df_train['Parch'] + 1\n",
    "\n",
    "## IsAlone\n",
    "df_train['IsAlone'] = (df_train['FamilySize']==1).astype(int)"
   ]
  },
  {
   "cell_type": "code",
   "execution_count": 23,
   "id": "22c65fd4",
   "metadata": {
    "execution": {
     "iopub.execute_input": "2025-10-25T15:29:27.496349Z",
     "iopub.status.busy": "2025-10-25T15:29:27.496027Z",
     "iopub.status.idle": "2025-10-25T15:29:27.508891Z",
     "shell.execute_reply": "2025-10-25T15:29:27.508040Z"
    },
    "papermill": {
     "duration": 0.025981,
     "end_time": "2025-10-25T15:29:27.510227",
     "exception": false,
     "start_time": "2025-10-25T15:29:27.484246",
     "status": "completed"
    },
    "tags": []
   },
   "outputs": [
    {
     "data": {
      "text/html": [
       "<div>\n",
       "<style scoped>\n",
       "    .dataframe tbody tr th:only-of-type {\n",
       "        vertical-align: middle;\n",
       "    }\n",
       "\n",
       "    .dataframe tbody tr th {\n",
       "        vertical-align: top;\n",
       "    }\n",
       "\n",
       "    .dataframe thead th {\n",
       "        text-align: right;\n",
       "    }\n",
       "</style>\n",
       "<table border=\"1\" class=\"dataframe\">\n",
       "  <thead>\n",
       "    <tr style=\"text-align: right;\">\n",
       "      <th></th>\n",
       "      <th>PassengerId</th>\n",
       "      <th>Survived</th>\n",
       "      <th>Pclass</th>\n",
       "      <th>Name</th>\n",
       "      <th>Sex</th>\n",
       "      <th>Age</th>\n",
       "      <th>SibSp</th>\n",
       "      <th>Parch</th>\n",
       "      <th>Ticket</th>\n",
       "      <th>Fare</th>\n",
       "      <th>Embarked</th>\n",
       "      <th>Title</th>\n",
       "      <th>FamilySize</th>\n",
       "      <th>IsAlone</th>\n",
       "    </tr>\n",
       "  </thead>\n",
       "  <tbody>\n",
       "    <tr>\n",
       "      <th>0</th>\n",
       "      <td>1</td>\n",
       "      <td>0</td>\n",
       "      <td>3</td>\n",
       "      <td>Braund, Mr. Owen Harris</td>\n",
       "      <td>male</td>\n",
       "      <td>22.0</td>\n",
       "      <td>1</td>\n",
       "      <td>0</td>\n",
       "      <td>A/5 21171</td>\n",
       "      <td>7.2500</td>\n",
       "      <td>S</td>\n",
       "      <td>Mr</td>\n",
       "      <td>2</td>\n",
       "      <td>0</td>\n",
       "    </tr>\n",
       "    <tr>\n",
       "      <th>1</th>\n",
       "      <td>2</td>\n",
       "      <td>1</td>\n",
       "      <td>1</td>\n",
       "      <td>Cumings, Mrs. John Bradley (Florence Briggs Th...</td>\n",
       "      <td>female</td>\n",
       "      <td>38.0</td>\n",
       "      <td>1</td>\n",
       "      <td>0</td>\n",
       "      <td>PC 17599</td>\n",
       "      <td>71.2833</td>\n",
       "      <td>C</td>\n",
       "      <td>Mrs</td>\n",
       "      <td>2</td>\n",
       "      <td>0</td>\n",
       "    </tr>\n",
       "    <tr>\n",
       "      <th>2</th>\n",
       "      <td>3</td>\n",
       "      <td>1</td>\n",
       "      <td>3</td>\n",
       "      <td>Heikkinen, Miss. Laina</td>\n",
       "      <td>female</td>\n",
       "      <td>26.0</td>\n",
       "      <td>0</td>\n",
       "      <td>0</td>\n",
       "      <td>STON/O2. 3101282</td>\n",
       "      <td>7.9250</td>\n",
       "      <td>S</td>\n",
       "      <td>Miss</td>\n",
       "      <td>1</td>\n",
       "      <td>1</td>\n",
       "    </tr>\n",
       "  </tbody>\n",
       "</table>\n",
       "</div>"
      ],
      "text/plain": [
       "   PassengerId  Survived  Pclass  \\\n",
       "0            1         0       3   \n",
       "1            2         1       1   \n",
       "2            3         1       3   \n",
       "\n",
       "                                                Name     Sex   Age  SibSp  \\\n",
       "0                            Braund, Mr. Owen Harris    male  22.0      1   \n",
       "1  Cumings, Mrs. John Bradley (Florence Briggs Th...  female  38.0      1   \n",
       "2                             Heikkinen, Miss. Laina  female  26.0      0   \n",
       "\n",
       "   Parch            Ticket     Fare Embarked Title  FamilySize  IsAlone  \n",
       "0      0         A/5 21171   7.2500        S    Mr           2        0  \n",
       "1      0          PC 17599  71.2833        C   Mrs           2        0  \n",
       "2      0  STON/O2. 3101282   7.9250        S  Miss           1        1  "
      ]
     },
     "execution_count": 23,
     "metadata": {},
     "output_type": "execute_result"
    }
   ],
   "source": [
    "df_train.head(3)"
   ]
  },
  {
   "cell_type": "code",
   "execution_count": 24,
   "id": "f00d3fce",
   "metadata": {
    "execution": {
     "iopub.execute_input": "2025-10-25T15:29:27.533562Z",
     "iopub.status.busy": "2025-10-25T15:29:27.533253Z",
     "iopub.status.idle": "2025-10-25T15:29:27.543937Z",
     "shell.execute_reply": "2025-10-25T15:29:27.543287Z"
    },
    "papermill": {
     "duration": 0.024304,
     "end_time": "2025-10-25T15:29:27.545374",
     "exception": false,
     "start_time": "2025-10-25T15:29:27.521070",
     "status": "completed"
    },
    "tags": []
   },
   "outputs": [],
   "source": [
    "## Will follow the same method for Test data\n",
    "\n",
    "## Title extraction:\n",
    "df_test['Title'] = df_test['Name'].str.extract(' ([A-Za-z]+)\\.', expand=False)\n",
    "\n",
    "## Let's group rare titles\n",
    "rare_titles = ['Lady', 'Countess','Capt', 'Col','Don', 'Dr', 'Major', 'Rev', 'Sir', 'Jonkheer', 'Dona']\n",
    "df_test['Title'] = df_test['Title'].replace(rare_titles, 'Rare')\n",
    "df_test['Title'] = df_test['Title'].replace({'Mlle':'Miss', 'Ms':'Miss', 'Mme':'Mrs'})\n",
    "\n",
    "# Family size feature\n",
    "df_test['FamilySize'] = df_test['SibSp'] + df_test['Parch'] + 1\n",
    "\n",
    "## IsAlone\n",
    "df_test['IsAlone'] = (df_test['FamilySize']==1).astype(int)"
   ]
  },
  {
   "cell_type": "code",
   "execution_count": 25,
   "id": "e25b4c52",
   "metadata": {
    "execution": {
     "iopub.execute_input": "2025-10-25T15:29:27.568085Z",
     "iopub.status.busy": "2025-10-25T15:29:27.567520Z",
     "iopub.status.idle": "2025-10-25T15:29:27.579421Z",
     "shell.execute_reply": "2025-10-25T15:29:27.578548Z"
    },
    "papermill": {
     "duration": 0.024652,
     "end_time": "2025-10-25T15:29:27.580792",
     "exception": false,
     "start_time": "2025-10-25T15:29:27.556140",
     "status": "completed"
    },
    "tags": []
   },
   "outputs": [
    {
     "data": {
      "text/html": [
       "<div>\n",
       "<style scoped>\n",
       "    .dataframe tbody tr th:only-of-type {\n",
       "        vertical-align: middle;\n",
       "    }\n",
       "\n",
       "    .dataframe tbody tr th {\n",
       "        vertical-align: top;\n",
       "    }\n",
       "\n",
       "    .dataframe thead th {\n",
       "        text-align: right;\n",
       "    }\n",
       "</style>\n",
       "<table border=\"1\" class=\"dataframe\">\n",
       "  <thead>\n",
       "    <tr style=\"text-align: right;\">\n",
       "      <th></th>\n",
       "      <th>PassengerId</th>\n",
       "      <th>Pclass</th>\n",
       "      <th>Name</th>\n",
       "      <th>Sex</th>\n",
       "      <th>Age</th>\n",
       "      <th>SibSp</th>\n",
       "      <th>Parch</th>\n",
       "      <th>Ticket</th>\n",
       "      <th>Fare</th>\n",
       "      <th>Embarked</th>\n",
       "      <th>Title</th>\n",
       "      <th>FamilySize</th>\n",
       "      <th>IsAlone</th>\n",
       "    </tr>\n",
       "  </thead>\n",
       "  <tbody>\n",
       "    <tr>\n",
       "      <th>0</th>\n",
       "      <td>892</td>\n",
       "      <td>3</td>\n",
       "      <td>Kelly, Mr. James</td>\n",
       "      <td>male</td>\n",
       "      <td>34.5</td>\n",
       "      <td>0</td>\n",
       "      <td>0</td>\n",
       "      <td>330911</td>\n",
       "      <td>7.8292</td>\n",
       "      <td>Q</td>\n",
       "      <td>Mr</td>\n",
       "      <td>1</td>\n",
       "      <td>1</td>\n",
       "    </tr>\n",
       "    <tr>\n",
       "      <th>1</th>\n",
       "      <td>893</td>\n",
       "      <td>3</td>\n",
       "      <td>Wilkes, Mrs. James (Ellen Needs)</td>\n",
       "      <td>female</td>\n",
       "      <td>47.0</td>\n",
       "      <td>1</td>\n",
       "      <td>0</td>\n",
       "      <td>363272</td>\n",
       "      <td>7.0000</td>\n",
       "      <td>S</td>\n",
       "      <td>Mrs</td>\n",
       "      <td>2</td>\n",
       "      <td>0</td>\n",
       "    </tr>\n",
       "    <tr>\n",
       "      <th>2</th>\n",
       "      <td>894</td>\n",
       "      <td>2</td>\n",
       "      <td>Myles, Mr. Thomas Francis</td>\n",
       "      <td>male</td>\n",
       "      <td>62.0</td>\n",
       "      <td>0</td>\n",
       "      <td>0</td>\n",
       "      <td>240276</td>\n",
       "      <td>9.6875</td>\n",
       "      <td>Q</td>\n",
       "      <td>Mr</td>\n",
       "      <td>1</td>\n",
       "      <td>1</td>\n",
       "    </tr>\n",
       "  </tbody>\n",
       "</table>\n",
       "</div>"
      ],
      "text/plain": [
       "   PassengerId  Pclass                              Name     Sex   Age  SibSp  \\\n",
       "0          892       3                  Kelly, Mr. James    male  34.5      0   \n",
       "1          893       3  Wilkes, Mrs. James (Ellen Needs)  female  47.0      1   \n",
       "2          894       2         Myles, Mr. Thomas Francis    male  62.0      0   \n",
       "\n",
       "   Parch  Ticket    Fare Embarked Title  FamilySize  IsAlone  \n",
       "0      0  330911  7.8292        Q    Mr           1        1  \n",
       "1      0  363272  7.0000        S   Mrs           2        0  \n",
       "2      0  240276  9.6875        Q    Mr           1        1  "
      ]
     },
     "execution_count": 25,
     "metadata": {},
     "output_type": "execute_result"
    }
   ],
   "source": [
    "df_test.head(3)"
   ]
  },
  {
   "cell_type": "code",
   "execution_count": 26,
   "id": "39f7ae36",
   "metadata": {
    "execution": {
     "iopub.execute_input": "2025-10-25T15:29:27.603355Z",
     "iopub.status.busy": "2025-10-25T15:29:27.603058Z",
     "iopub.status.idle": "2025-10-25T15:29:27.609690Z",
     "shell.execute_reply": "2025-10-25T15:29:27.609052Z"
    },
    "papermill": {
     "duration": 0.019375,
     "end_time": "2025-10-25T15:29:27.611032",
     "exception": false,
     "start_time": "2025-10-25T15:29:27.591657",
     "status": "completed"
    },
    "tags": []
   },
   "outputs": [],
   "source": [
    "#Let's remove unnecessary columns like passengerid and name\n",
    "df_train.drop(['PassengerId','Name','Ticket'], axis = 1, inplace = True)\n",
    "df_test.drop(['PassengerId','Name','Ticket'], axis = 1, inplace = True)"
   ]
  },
  {
   "cell_type": "code",
   "execution_count": 27,
   "id": "4ff1fe46",
   "metadata": {
    "execution": {
     "iopub.execute_input": "2025-10-25T15:29:27.633947Z",
     "iopub.status.busy": "2025-10-25T15:29:27.633653Z",
     "iopub.status.idle": "2025-10-25T15:29:27.644810Z",
     "shell.execute_reply": "2025-10-25T15:29:27.644035Z"
    },
    "papermill": {
     "duration": 0.02419,
     "end_time": "2025-10-25T15:29:27.646097",
     "exception": false,
     "start_time": "2025-10-25T15:29:27.621907",
     "status": "completed"
    },
    "tags": []
   },
   "outputs": [
    {
     "data": {
      "text/html": [
       "<div>\n",
       "<style scoped>\n",
       "    .dataframe tbody tr th:only-of-type {\n",
       "        vertical-align: middle;\n",
       "    }\n",
       "\n",
       "    .dataframe tbody tr th {\n",
       "        vertical-align: top;\n",
       "    }\n",
       "\n",
       "    .dataframe thead th {\n",
       "        text-align: right;\n",
       "    }\n",
       "</style>\n",
       "<table border=\"1\" class=\"dataframe\">\n",
       "  <thead>\n",
       "    <tr style=\"text-align: right;\">\n",
       "      <th></th>\n",
       "      <th>Survived</th>\n",
       "      <th>Pclass</th>\n",
       "      <th>Sex</th>\n",
       "      <th>Age</th>\n",
       "      <th>SibSp</th>\n",
       "      <th>Parch</th>\n",
       "      <th>Fare</th>\n",
       "      <th>Embarked</th>\n",
       "      <th>Title</th>\n",
       "      <th>FamilySize</th>\n",
       "      <th>IsAlone</th>\n",
       "    </tr>\n",
       "  </thead>\n",
       "  <tbody>\n",
       "    <tr>\n",
       "      <th>0</th>\n",
       "      <td>0</td>\n",
       "      <td>3</td>\n",
       "      <td>male</td>\n",
       "      <td>22.0</td>\n",
       "      <td>1</td>\n",
       "      <td>0</td>\n",
       "      <td>7.2500</td>\n",
       "      <td>S</td>\n",
       "      <td>Mr</td>\n",
       "      <td>2</td>\n",
       "      <td>0</td>\n",
       "    </tr>\n",
       "    <tr>\n",
       "      <th>1</th>\n",
       "      <td>1</td>\n",
       "      <td>1</td>\n",
       "      <td>female</td>\n",
       "      <td>38.0</td>\n",
       "      <td>1</td>\n",
       "      <td>0</td>\n",
       "      <td>71.2833</td>\n",
       "      <td>C</td>\n",
       "      <td>Mrs</td>\n",
       "      <td>2</td>\n",
       "      <td>0</td>\n",
       "    </tr>\n",
       "    <tr>\n",
       "      <th>2</th>\n",
       "      <td>1</td>\n",
       "      <td>3</td>\n",
       "      <td>female</td>\n",
       "      <td>26.0</td>\n",
       "      <td>0</td>\n",
       "      <td>0</td>\n",
       "      <td>7.9250</td>\n",
       "      <td>S</td>\n",
       "      <td>Miss</td>\n",
       "      <td>1</td>\n",
       "      <td>1</td>\n",
       "    </tr>\n",
       "  </tbody>\n",
       "</table>\n",
       "</div>"
      ],
      "text/plain": [
       "   Survived  Pclass     Sex   Age  SibSp  Parch     Fare Embarked Title  \\\n",
       "0         0       3    male  22.0      1      0   7.2500        S    Mr   \n",
       "1         1       1  female  38.0      1      0  71.2833        C   Mrs   \n",
       "2         1       3  female  26.0      0      0   7.9250        S  Miss   \n",
       "\n",
       "   FamilySize  IsAlone  \n",
       "0           2        0  \n",
       "1           2        0  \n",
       "2           1        1  "
      ]
     },
     "execution_count": 27,
     "metadata": {},
     "output_type": "execute_result"
    }
   ],
   "source": [
    "df_train.head(3)"
   ]
  },
  {
   "cell_type": "code",
   "execution_count": 28,
   "id": "493d95b8",
   "metadata": {
    "execution": {
     "iopub.execute_input": "2025-10-25T15:29:27.669433Z",
     "iopub.status.busy": "2025-10-25T15:29:27.668612Z",
     "iopub.status.idle": "2025-10-25T15:29:27.676861Z",
     "shell.execute_reply": "2025-10-25T15:29:27.675808Z"
    },
    "papermill": {
     "duration": 0.021215,
     "end_time": "2025-10-25T15:29:27.678222",
     "exception": false,
     "start_time": "2025-10-25T15:29:27.657007",
     "status": "completed"
    },
    "tags": []
   },
   "outputs": [
    {
     "data": {
      "text/plain": [
       "Sex         2\n",
       "Embarked    3\n",
       "dtype: int64"
      ]
     },
     "execution_count": 28,
     "metadata": {},
     "output_type": "execute_result"
    }
   ],
   "source": [
    "#To check number of unique values in categorical column\n",
    "df_train[['Sex','Embarked']].nunique()"
   ]
  },
  {
   "cell_type": "code",
   "execution_count": 29,
   "id": "6d79a99a",
   "metadata": {
    "execution": {
     "iopub.execute_input": "2025-10-25T15:29:27.701641Z",
     "iopub.status.busy": "2025-10-25T15:29:27.701372Z",
     "iopub.status.idle": "2025-10-25T15:29:27.713090Z",
     "shell.execute_reply": "2025-10-25T15:29:27.712297Z"
    },
    "papermill": {
     "duration": 0.02506,
     "end_time": "2025-10-25T15:29:27.714471",
     "exception": false,
     "start_time": "2025-10-25T15:29:27.689411",
     "status": "completed"
    },
    "tags": []
   },
   "outputs": [],
   "source": [
    "#Now let's convert string colulmn in numerice using one hot encoding\n",
    "df_train = pd.get_dummies(df_train, drop_first = True, dtype = int)\n",
    "df_test = pd.get_dummies(df_test, drop_first = True, dtype = int)"
   ]
  },
  {
   "cell_type": "code",
   "execution_count": 30,
   "id": "208d3129",
   "metadata": {
    "execution": {
     "iopub.execute_input": "2025-10-25T15:29:27.738113Z",
     "iopub.status.busy": "2025-10-25T15:29:27.737464Z",
     "iopub.status.idle": "2025-10-25T15:29:27.748603Z",
     "shell.execute_reply": "2025-10-25T15:29:27.747856Z"
    },
    "papermill": {
     "duration": 0.024251,
     "end_time": "2025-10-25T15:29:27.749924",
     "exception": false,
     "start_time": "2025-10-25T15:29:27.725673",
     "status": "completed"
    },
    "tags": []
   },
   "outputs": [
    {
     "data": {
      "text/html": [
       "<div>\n",
       "<style scoped>\n",
       "    .dataframe tbody tr th:only-of-type {\n",
       "        vertical-align: middle;\n",
       "    }\n",
       "\n",
       "    .dataframe tbody tr th {\n",
       "        vertical-align: top;\n",
       "    }\n",
       "\n",
       "    .dataframe thead th {\n",
       "        text-align: right;\n",
       "    }\n",
       "</style>\n",
       "<table border=\"1\" class=\"dataframe\">\n",
       "  <thead>\n",
       "    <tr style=\"text-align: right;\">\n",
       "      <th></th>\n",
       "      <th>Survived</th>\n",
       "      <th>Pclass</th>\n",
       "      <th>Age</th>\n",
       "      <th>SibSp</th>\n",
       "      <th>Parch</th>\n",
       "      <th>Fare</th>\n",
       "      <th>FamilySize</th>\n",
       "      <th>IsAlone</th>\n",
       "      <th>Sex_male</th>\n",
       "      <th>Embarked_Q</th>\n",
       "      <th>Embarked_S</th>\n",
       "      <th>Title_Miss</th>\n",
       "      <th>Title_Mr</th>\n",
       "      <th>Title_Mrs</th>\n",
       "      <th>Title_Rare</th>\n",
       "    </tr>\n",
       "  </thead>\n",
       "  <tbody>\n",
       "    <tr>\n",
       "      <th>0</th>\n",
       "      <td>0</td>\n",
       "      <td>3</td>\n",
       "      <td>22.0</td>\n",
       "      <td>1</td>\n",
       "      <td>0</td>\n",
       "      <td>7.2500</td>\n",
       "      <td>2</td>\n",
       "      <td>0</td>\n",
       "      <td>1</td>\n",
       "      <td>0</td>\n",
       "      <td>1</td>\n",
       "      <td>0</td>\n",
       "      <td>1</td>\n",
       "      <td>0</td>\n",
       "      <td>0</td>\n",
       "    </tr>\n",
       "    <tr>\n",
       "      <th>1</th>\n",
       "      <td>1</td>\n",
       "      <td>1</td>\n",
       "      <td>38.0</td>\n",
       "      <td>1</td>\n",
       "      <td>0</td>\n",
       "      <td>71.2833</td>\n",
       "      <td>2</td>\n",
       "      <td>0</td>\n",
       "      <td>0</td>\n",
       "      <td>0</td>\n",
       "      <td>0</td>\n",
       "      <td>0</td>\n",
       "      <td>0</td>\n",
       "      <td>1</td>\n",
       "      <td>0</td>\n",
       "    </tr>\n",
       "    <tr>\n",
       "      <th>2</th>\n",
       "      <td>1</td>\n",
       "      <td>3</td>\n",
       "      <td>26.0</td>\n",
       "      <td>0</td>\n",
       "      <td>0</td>\n",
       "      <td>7.9250</td>\n",
       "      <td>1</td>\n",
       "      <td>1</td>\n",
       "      <td>0</td>\n",
       "      <td>0</td>\n",
       "      <td>1</td>\n",
       "      <td>1</td>\n",
       "      <td>0</td>\n",
       "      <td>0</td>\n",
       "      <td>0</td>\n",
       "    </tr>\n",
       "  </tbody>\n",
       "</table>\n",
       "</div>"
      ],
      "text/plain": [
       "   Survived  Pclass   Age  SibSp  Parch     Fare  FamilySize  IsAlone  \\\n",
       "0         0       3  22.0      1      0   7.2500           2        0   \n",
       "1         1       1  38.0      1      0  71.2833           2        0   \n",
       "2         1       3  26.0      0      0   7.9250           1        1   \n",
       "\n",
       "   Sex_male  Embarked_Q  Embarked_S  Title_Miss  Title_Mr  Title_Mrs  \\\n",
       "0         1           0           1           0         1          0   \n",
       "1         0           0           0           0         0          1   \n",
       "2         0           0           1           1         0          0   \n",
       "\n",
       "   Title_Rare  \n",
       "0           0  \n",
       "1           0  \n",
       "2           0  "
      ]
     },
     "execution_count": 30,
     "metadata": {},
     "output_type": "execute_result"
    }
   ],
   "source": [
    "df_train.head(3)"
   ]
  },
  {
   "cell_type": "code",
   "execution_count": 31,
   "id": "739910bc",
   "metadata": {
    "execution": {
     "iopub.execute_input": "2025-10-25T15:29:27.774424Z",
     "iopub.status.busy": "2025-10-25T15:29:27.774099Z",
     "iopub.status.idle": "2025-10-25T15:29:27.780303Z",
     "shell.execute_reply": "2025-10-25T15:29:27.779356Z"
    },
    "papermill": {
     "duration": 0.019782,
     "end_time": "2025-10-25T15:29:27.781628",
     "exception": false,
     "start_time": "2025-10-25T15:29:27.761846",
     "status": "completed"
    },
    "tags": []
   },
   "outputs": [
    {
     "data": {
      "text/plain": [
       "(891, 15)"
      ]
     },
     "execution_count": 31,
     "metadata": {},
     "output_type": "execute_result"
    }
   ],
   "source": [
    "df_train.shape"
   ]
  },
  {
   "cell_type": "code",
   "execution_count": 32,
   "id": "c30d5790",
   "metadata": {
    "execution": {
     "iopub.execute_input": "2025-10-25T15:29:27.805614Z",
     "iopub.status.busy": "2025-10-25T15:29:27.804956Z",
     "iopub.status.idle": "2025-10-25T15:29:27.816809Z",
     "shell.execute_reply": "2025-10-25T15:29:27.815890Z"
    },
    "papermill": {
     "duration": 0.025256,
     "end_time": "2025-10-25T15:29:27.818185",
     "exception": false,
     "start_time": "2025-10-25T15:29:27.792929",
     "status": "completed"
    },
    "tags": []
   },
   "outputs": [
    {
     "data": {
      "text/html": [
       "<div>\n",
       "<style scoped>\n",
       "    .dataframe tbody tr th:only-of-type {\n",
       "        vertical-align: middle;\n",
       "    }\n",
       "\n",
       "    .dataframe tbody tr th {\n",
       "        vertical-align: top;\n",
       "    }\n",
       "\n",
       "    .dataframe thead th {\n",
       "        text-align: right;\n",
       "    }\n",
       "</style>\n",
       "<table border=\"1\" class=\"dataframe\">\n",
       "  <thead>\n",
       "    <tr style=\"text-align: right;\">\n",
       "      <th></th>\n",
       "      <th>Pclass</th>\n",
       "      <th>Age</th>\n",
       "      <th>SibSp</th>\n",
       "      <th>Parch</th>\n",
       "      <th>Fare</th>\n",
       "      <th>FamilySize</th>\n",
       "      <th>IsAlone</th>\n",
       "      <th>Sex_male</th>\n",
       "      <th>Embarked_Q</th>\n",
       "      <th>Embarked_S</th>\n",
       "      <th>Title_Miss</th>\n",
       "      <th>Title_Mr</th>\n",
       "      <th>Title_Mrs</th>\n",
       "      <th>Title_Rare</th>\n",
       "    </tr>\n",
       "  </thead>\n",
       "  <tbody>\n",
       "    <tr>\n",
       "      <th>0</th>\n",
       "      <td>3</td>\n",
       "      <td>34.5</td>\n",
       "      <td>0</td>\n",
       "      <td>0</td>\n",
       "      <td>7.8292</td>\n",
       "      <td>1</td>\n",
       "      <td>1</td>\n",
       "      <td>1</td>\n",
       "      <td>1</td>\n",
       "      <td>0</td>\n",
       "      <td>0</td>\n",
       "      <td>1</td>\n",
       "      <td>0</td>\n",
       "      <td>0</td>\n",
       "    </tr>\n",
       "    <tr>\n",
       "      <th>1</th>\n",
       "      <td>3</td>\n",
       "      <td>47.0</td>\n",
       "      <td>1</td>\n",
       "      <td>0</td>\n",
       "      <td>7.0000</td>\n",
       "      <td>2</td>\n",
       "      <td>0</td>\n",
       "      <td>0</td>\n",
       "      <td>0</td>\n",
       "      <td>1</td>\n",
       "      <td>0</td>\n",
       "      <td>0</td>\n",
       "      <td>1</td>\n",
       "      <td>0</td>\n",
       "    </tr>\n",
       "    <tr>\n",
       "      <th>2</th>\n",
       "      <td>2</td>\n",
       "      <td>62.0</td>\n",
       "      <td>0</td>\n",
       "      <td>0</td>\n",
       "      <td>9.6875</td>\n",
       "      <td>1</td>\n",
       "      <td>1</td>\n",
       "      <td>1</td>\n",
       "      <td>1</td>\n",
       "      <td>0</td>\n",
       "      <td>0</td>\n",
       "      <td>1</td>\n",
       "      <td>0</td>\n",
       "      <td>0</td>\n",
       "    </tr>\n",
       "  </tbody>\n",
       "</table>\n",
       "</div>"
      ],
      "text/plain": [
       "   Pclass   Age  SibSp  Parch    Fare  FamilySize  IsAlone  Sex_male  \\\n",
       "0       3  34.5      0      0  7.8292           1        1         1   \n",
       "1       3  47.0      1      0  7.0000           2        0         0   \n",
       "2       2  62.0      0      0  9.6875           1        1         1   \n",
       "\n",
       "   Embarked_Q  Embarked_S  Title_Miss  Title_Mr  Title_Mrs  Title_Rare  \n",
       "0           1           0           0         1          0           0  \n",
       "1           0           1           0         0          1           0  \n",
       "2           1           0           0         1          0           0  "
      ]
     },
     "execution_count": 32,
     "metadata": {},
     "output_type": "execute_result"
    }
   ],
   "source": [
    "df_test.head(3)"
   ]
  },
  {
   "cell_type": "code",
   "execution_count": 33,
   "id": "83cc9a31",
   "metadata": {
    "execution": {
     "iopub.execute_input": "2025-10-25T15:29:27.842432Z",
     "iopub.status.busy": "2025-10-25T15:29:27.841830Z",
     "iopub.status.idle": "2025-10-25T15:29:27.847266Z",
     "shell.execute_reply": "2025-10-25T15:29:27.846393Z"
    },
    "papermill": {
     "duration": 0.018748,
     "end_time": "2025-10-25T15:29:27.848569",
     "exception": false,
     "start_time": "2025-10-25T15:29:27.829821",
     "status": "completed"
    },
    "tags": []
   },
   "outputs": [],
   "source": [
    "#Let's create feature and lable with train and test\n",
    "X_train = df_train.drop('Survived', axis = 1)\n",
    "y_train = df_train['Survived']\n",
    "X_test = df_test"
   ]
  },
  {
   "cell_type": "markdown",
   "id": "793c8d1a",
   "metadata": {
    "papermill": {
     "duration": 0.011156,
     "end_time": "2025-10-25T15:29:27.871051",
     "exception": false,
     "start_time": "2025-10-25T15:29:27.859895",
     "status": "completed"
    },
    "tags": []
   },
   "source": [
    "## Model Selection using K-fold cross validation"
   ]
  },
  {
   "cell_type": "code",
   "execution_count": 34,
   "id": "6a371a3e",
   "metadata": {
    "execution": {
     "iopub.execute_input": "2025-10-25T15:29:27.894927Z",
     "iopub.status.busy": "2025-10-25T15:29:27.894632Z",
     "iopub.status.idle": "2025-10-25T15:29:28.785105Z",
     "shell.execute_reply": "2025-10-25T15:29:28.784307Z"
    },
    "papermill": {
     "duration": 0.904267,
     "end_time": "2025-10-25T15:29:28.786684",
     "exception": false,
     "start_time": "2025-10-25T15:29:27.882417",
     "status": "completed"
    },
    "tags": []
   },
   "outputs": [],
   "source": [
    "## We will test four model to decide which one performs best.\n",
    "# Import the necessary libraries\n",
    "\n",
    "from sklearn.model_selection import cross_val_score\n",
    "\n",
    "from sklearn.linear_model import LogisticRegression\n",
    "from sklearn.ensemble import RandomForestClassifier\n",
    "from sklearn.svm import SVC\n",
    "import xgboost as xgb"
   ]
  },
  {
   "cell_type": "code",
   "execution_count": 35,
   "id": "409f8d85",
   "metadata": {
    "execution": {
     "iopub.execute_input": "2025-10-25T15:29:28.811954Z",
     "iopub.status.busy": "2025-10-25T15:29:28.811281Z",
     "iopub.status.idle": "2025-10-25T15:29:42.315405Z",
     "shell.execute_reply": "2025-10-25T15:29:42.312686Z"
    },
    "papermill": {
     "duration": 13.518662,
     "end_time": "2025-10-25T15:29:42.317393",
     "exception": false,
     "start_time": "2025-10-25T15:29:28.798731",
     "status": "completed"
    },
    "tags": []
   },
   "outputs": [
    {
     "data": {
      "text/plain": [
       "0.8170547988199109"
      ]
     },
     "execution_count": 35,
     "metadata": {},
     "output_type": "execute_result"
    }
   ],
   "source": [
    "#Let's first check the accuracy from logistic regression\n",
    "cross_val_score(LogisticRegression(max_iter=1000),X_train, y_train, cv=5).mean()"
   ]
  },
  {
   "cell_type": "code",
   "execution_count": 36,
   "id": "fa357503",
   "metadata": {
    "execution": {
     "iopub.execute_input": "2025-10-25T15:29:42.363643Z",
     "iopub.status.busy": "2025-10-25T15:29:42.362737Z",
     "iopub.status.idle": "2025-10-25T15:29:42.368735Z",
     "shell.execute_reply": "2025-10-25T15:29:42.368021Z"
    },
    "papermill": {
     "duration": 0.02855,
     "end_time": "2025-10-25T15:29:42.370394",
     "exception": false,
     "start_time": "2025-10-25T15:29:42.341844",
     "status": "completed"
    },
    "tags": []
   },
   "outputs": [],
   "source": [
    "#Let's result for all models\n",
    "\n",
    "models = {\"LogisticRegression\":LogisticRegression(max_iter=1000),\n",
    "         \"RandomForestClassifier\": RandomForestClassifier(n_estimators=50),\n",
    "         \"SVM\": SVC(),\n",
    "         \"Xgboost\": xgb.XGBClassifier(eval_metric=\"logloss\")}"
   ]
  },
  {
   "cell_type": "code",
   "execution_count": 37,
   "id": "5b94ccfe",
   "metadata": {
    "execution": {
     "iopub.execute_input": "2025-10-25T15:29:42.411529Z",
     "iopub.status.busy": "2025-10-25T15:29:42.411200Z",
     "iopub.status.idle": "2025-10-25T15:29:57.791687Z",
     "shell.execute_reply": "2025-10-25T15:29:57.789835Z"
    },
    "papermill": {
     "duration": 15.402569,
     "end_time": "2025-10-25T15:29:57.793254",
     "exception": false,
     "start_time": "2025-10-25T15:29:42.390685",
     "status": "completed"
    },
    "tags": []
   },
   "outputs": [
    {
     "name": "stdout",
     "output_type": "stream",
     "text": [
      "{'LogisticRegression': 0.8170547988199109, 'RandomForestClassifier': 0.8069675475488042, 'SVM': 0.6712572970937167, 'Xgboost': 0.8136902893729208}\n"
     ]
    }
   ],
   "source": [
    "result = {}\n",
    "\n",
    "for name,model in models.items():\n",
    "    model_score = cross_val_score(model,X_train,y_train,cv=5)\n",
    "    result[name] = model_score.mean()\n",
    "\n",
    "print(result)"
   ]
  },
  {
   "cell_type": "markdown",
   "id": "135ee129",
   "metadata": {
    "papermill": {
     "duration": 0.011225,
     "end_time": "2025-10-25T15:29:57.818926",
     "exception": false,
     "start_time": "2025-10-25T15:29:57.807701",
     "status": "completed"
    },
    "tags": []
   },
   "source": [
    "From these results:\n",
    "\n",
    "LogisticRegression performs the best (highest mean CV score: 0.8170)\n",
    "Xgboostt is close behind (0.8136)\n",
    "\n",
    "So right now, LogisticRegression seems the best-performing model.\n",
    "\n",
    "But this is important to understand these are default parameters. We can still improve model performance through hyperparameter tuning. Will try top three models with hyperparameters"
   ]
  },
  {
   "cell_type": "markdown",
   "id": "611e0b08",
   "metadata": {
    "papermill": {
     "duration": 0.011154,
     "end_time": "2025-10-25T15:29:57.841475",
     "exception": false,
     "start_time": "2025-10-25T15:29:57.830321",
     "status": "completed"
    },
    "tags": []
   },
   "source": [
    "## Hyperparameter Tuning\n",
    "Will try different hyperparameters for each top-performing model (especially for XGBoost and Random Forest)"
   ]
  },
  {
   "cell_type": "code",
   "execution_count": 38,
   "id": "941ed831",
   "metadata": {
    "execution": {
     "iopub.execute_input": "2025-10-25T15:29:57.865186Z",
     "iopub.status.busy": "2025-10-25T15:29:57.864841Z",
     "iopub.status.idle": "2025-10-25T15:30:03.921055Z",
     "shell.execute_reply": "2025-10-25T15:30:03.920284Z"
    },
    "papermill": {
     "duration": 6.069612,
     "end_time": "2025-10-25T15:30:03.922422",
     "exception": false,
     "start_time": "2025-10-25T15:29:57.852810",
     "status": "completed"
    },
    "tags": []
   },
   "outputs": [
    {
     "name": "stdout",
     "output_type": "stream",
     "text": [
      "Best XGB Parameters: {'subsample': 0.7, 'n_estimators': 300, 'max_depth': 5, 'learning_rate': 0.05, 'colsample_bytree': 0.8}\n",
      "Best XGB CV Accuracy: 0.8428598330299415\n"
     ]
    }
   ],
   "source": [
    "## Example.2: RandomizedSearchCV for XGBoost\n",
    "from sklearn.model_selection import GridSearchCV\n",
    "from sklearn.model_selection import RandomizedSearchCV\n",
    "import xgboost as xgb\n",
    "\n",
    "# Define parameter grid (wider search)\n",
    "xgb_params = {\n",
    "    'n_estimators': [100, 200, 300],\n",
    "    'max_depth': [3, 5, 7, 10],\n",
    "    'learning_rate': [0.01, 0.05, 0.1, 0.2],\n",
    "    'subsample': [0.7, 0.8, 1.0],\n",
    "    'colsample_bytree': [0.7, 0.8, 1.0]}\n",
    "\n",
    "xgb_clf = xgb.XGBClassifier(eval_metric=\"logloss\", random_state=42)\n",
    "\n",
    "rand_xgb = RandomizedSearchCV(estimator=xgb_clf,\n",
    "                              param_distributions=xgb_params,\n",
    "                              n_iter=20,  # tries 20 random combos\n",
    "                              cv=5,\n",
    "                              scoring='accuracy',\n",
    "                              n_jobs=-1,\n",
    "                              random_state=42)\n",
    "\n",
    "rand_xgb.fit(X_train, y_train)\n",
    "\n",
    "print(\"Best XGB Parameters:\", rand_xgb.best_params_)\n",
    "print(\"Best XGB CV Accuracy:\", rand_xgb.best_score_)"
   ]
  },
  {
   "cell_type": "code",
   "execution_count": 39,
   "id": "a5c76f5b",
   "metadata": {
    "execution": {
     "iopub.execute_input": "2025-10-25T15:30:03.949379Z",
     "iopub.status.busy": "2025-10-25T15:30:03.949104Z",
     "iopub.status.idle": "2025-10-25T15:30:16.013386Z",
     "shell.execute_reply": "2025-10-25T15:30:16.012361Z"
    },
    "papermill": {
     "duration": 12.07795,
     "end_time": "2025-10-25T15:30:16.014762",
     "exception": false,
     "start_time": "2025-10-25T15:30:03.936812",
     "status": "completed"
    },
    "tags": []
   },
   "outputs": [
    {
     "name": "stdout",
     "output_type": "stream",
     "text": [
      "Best RF Parameters: {'max_depth': None, 'min_samples_split': 10, 'n_estimators': 200}\n",
      "Best RF CV Accuracy: 0.8339087314041805\n"
     ]
    }
   ],
   "source": [
    "### Example.2: GridSearchCV for Random Forest\n",
    "from sklearn.model_selection import GridSearchCV\n",
    "from sklearn.ensemble import RandomForestClassifier\n",
    "\n",
    "# Define parameter grid\n",
    "rf_params = {\n",
    "    'n_estimators': [50, 100, 200],\n",
    "    'max_depth': [None, 5, 10],\n",
    "    'min_samples_split': [2, 5, 10]\n",
    "}\n",
    "\n",
    "rf = RandomForestClassifier(random_state=42)\n",
    "\n",
    "grid_rf = GridSearchCV(estimator=rf,\n",
    "                       param_grid=rf_params,\n",
    "                       cv=5,\n",
    "                       scoring='accuracy',\n",
    "                       n_jobs=-1)\n",
    "\n",
    "grid_rf.fit(X_train, y_train)\n",
    "\n",
    "print(\"Best RF Parameters:\", grid_rf.best_params_)\n",
    "print(\"Best RF CV Accuracy:\", grid_rf.best_score_)"
   ]
  },
  {
   "cell_type": "markdown",
   "id": "fac1cdc1",
   "metadata": {
    "papermill": {
     "duration": 0.011127,
     "end_time": "2025-10-25T15:30:16.037900",
     "exception": false,
     "start_time": "2025-10-25T15:30:16.026773",
     "status": "completed"
    },
    "tags": []
   },
   "source": [
    "* Both models are performing almost equally well. Will go with Random Forest "
   ]
  },
  {
   "cell_type": "code",
   "execution_count": 40,
   "id": "95e7b82c",
   "metadata": {
    "execution": {
     "iopub.execute_input": "2025-10-25T15:30:16.061962Z",
     "iopub.status.busy": "2025-10-25T15:30:16.061601Z",
     "iopub.status.idle": "2025-10-25T15:30:16.436331Z",
     "shell.execute_reply": "2025-10-25T15:30:16.435504Z"
    },
    "papermill": {
     "duration": 0.388561,
     "end_time": "2025-10-25T15:30:16.437894",
     "exception": false,
     "start_time": "2025-10-25T15:30:16.049333",
     "status": "completed"
    },
    "tags": []
   },
   "outputs": [],
   "source": [
    "from sklearn.ensemble import RandomForestClassifier\n",
    "\n",
    "rf_model = RandomForestClassifier(max_depth = None, \n",
    "                                  min_samples_split = 10, \n",
    "                                  n_estimators = 200)\n",
    "rf_model.fit(X_train,y_train)\n",
    "y_pred = rf_model.predict(X_test)"
   ]
  },
  {
   "cell_type": "code",
   "execution_count": 41,
   "id": "730c0653",
   "metadata": {
    "execution": {
     "iopub.execute_input": "2025-10-25T15:30:16.463532Z",
     "iopub.status.busy": "2025-10-25T15:30:16.463250Z",
     "iopub.status.idle": "2025-10-25T15:30:16.477304Z",
     "shell.execute_reply": "2025-10-25T15:30:16.476344Z"
    },
    "papermill": {
     "duration": 0.028694,
     "end_time": "2025-10-25T15:30:16.478749",
     "exception": false,
     "start_time": "2025-10-25T15:30:16.450055",
     "status": "completed"
    },
    "tags": []
   },
   "outputs": [
    {
     "data": {
      "text/html": [
       "<div>\n",
       "<style scoped>\n",
       "    .dataframe tbody tr th:only-of-type {\n",
       "        vertical-align: middle;\n",
       "    }\n",
       "\n",
       "    .dataframe tbody tr th {\n",
       "        vertical-align: top;\n",
       "    }\n",
       "\n",
       "    .dataframe thead th {\n",
       "        text-align: right;\n",
       "    }\n",
       "</style>\n",
       "<table border=\"1\" class=\"dataframe\">\n",
       "  <thead>\n",
       "    <tr style=\"text-align: right;\">\n",
       "      <th></th>\n",
       "      <th>PassengerId</th>\n",
       "      <th>Survived</th>\n",
       "    </tr>\n",
       "  </thead>\n",
       "  <tbody>\n",
       "    <tr>\n",
       "      <th>0</th>\n",
       "      <td>892</td>\n",
       "      <td>0</td>\n",
       "    </tr>\n",
       "    <tr>\n",
       "      <th>1</th>\n",
       "      <td>893</td>\n",
       "      <td>1</td>\n",
       "    </tr>\n",
       "    <tr>\n",
       "      <th>2</th>\n",
       "      <td>894</td>\n",
       "      <td>0</td>\n",
       "    </tr>\n",
       "  </tbody>\n",
       "</table>\n",
       "</div>"
      ],
      "text/plain": [
       "   PassengerId  Survived\n",
       "0          892         0\n",
       "1          893         1\n",
       "2          894         0"
      ]
     },
     "execution_count": 41,
     "metadata": {},
     "output_type": "execute_result"
    }
   ],
   "source": [
    "sample_submission = pd.read_csv('/kaggle/input/titanic/gender_submission.csv')\n",
    "sample_submission.head(3)"
   ]
  },
  {
   "cell_type": "code",
   "execution_count": 42,
   "id": "b76269ca",
   "metadata": {
    "execution": {
     "iopub.execute_input": "2025-10-25T15:30:16.505529Z",
     "iopub.status.busy": "2025-10-25T15:30:16.504698Z",
     "iopub.status.idle": "2025-10-25T15:30:16.509686Z",
     "shell.execute_reply": "2025-10-25T15:30:16.508859Z"
    },
    "papermill": {
     "duration": 0.019543,
     "end_time": "2025-10-25T15:30:16.511163",
     "exception": false,
     "start_time": "2025-10-25T15:30:16.491620",
     "status": "completed"
    },
    "tags": []
   },
   "outputs": [],
   "source": [
    "submission = pd.DataFrame({\"PassengerId\": sample_submission['PassengerId'],\n",
    "                           'Survived': y_pred})"
   ]
  },
  {
   "cell_type": "code",
   "execution_count": 43,
   "id": "a085366a",
   "metadata": {
    "execution": {
     "iopub.execute_input": "2025-10-25T15:30:16.536325Z",
     "iopub.status.busy": "2025-10-25T15:30:16.535519Z",
     "iopub.status.idle": "2025-10-25T15:30:16.546147Z",
     "shell.execute_reply": "2025-10-25T15:30:16.545209Z"
    },
    "papermill": {
     "duration": 0.024845,
     "end_time": "2025-10-25T15:30:16.547735",
     "exception": false,
     "start_time": "2025-10-25T15:30:16.522890",
     "status": "completed"
    },
    "tags": []
   },
   "outputs": [],
   "source": [
    "submission.to_csv(\"rf_submission.csv\", index=False)"
   ]
  },
  {
   "cell_type": "markdown",
   "id": "1c3bb293",
   "metadata": {
    "papermill": {
     "duration": 0.011533,
     "end_time": "2025-10-25T15:30:16.571299",
     "exception": false,
     "start_time": "2025-10-25T15:30:16.559766",
     "status": "completed"
    },
    "tags": []
   },
   "source": [
    "## Will use LogisticRegression Model for better accuracy result. \n",
    "As it was best model based on K-fold cross validation score"
   ]
  },
  {
   "cell_type": "code",
   "execution_count": 44,
   "id": "82b9b86b",
   "metadata": {
    "execution": {
     "iopub.execute_input": "2025-10-25T15:30:16.596374Z",
     "iopub.status.busy": "2025-10-25T15:30:16.596065Z",
     "iopub.status.idle": "2025-10-25T15:30:40.524158Z",
     "shell.execute_reply": "2025-10-25T15:30:40.523150Z"
    },
    "papermill": {
     "duration": 23.942882,
     "end_time": "2025-10-25T15:30:40.525918",
     "exception": false,
     "start_time": "2025-10-25T15:30:16.583036",
     "status": "completed"
    },
    "tags": []
   },
   "outputs": [
    {
     "name": "stderr",
     "output_type": "stream",
     "text": [
      "/usr/local/lib/python3.11/dist-packages/sklearn/linear_model/_sag.py:350: ConvergenceWarning: The max_iter was reached which means the coef_ did not converge\n",
      "  warnings.warn(\n",
      "/usr/local/lib/python3.11/dist-packages/sklearn/linear_model/_sag.py:350: ConvergenceWarning: The max_iter was reached which means the coef_ did not converge\n",
      "  warnings.warn(\n",
      "/usr/local/lib/python3.11/dist-packages/sklearn/linear_model/_sag.py:350: ConvergenceWarning: The max_iter was reached which means the coef_ did not converge\n",
      "  warnings.warn(\n",
      "/usr/local/lib/python3.11/dist-packages/sklearn/linear_model/_sag.py:350: ConvergenceWarning: The max_iter was reached which means the coef_ did not converge\n",
      "  warnings.warn(\n",
      "/usr/local/lib/python3.11/dist-packages/sklearn/linear_model/_sag.py:350: ConvergenceWarning: The max_iter was reached which means the coef_ did not converge\n",
      "  warnings.warn(\n",
      "/usr/local/lib/python3.11/dist-packages/sklearn/linear_model/_sag.py:350: ConvergenceWarning: The max_iter was reached which means the coef_ did not converge\n",
      "  warnings.warn(\n"
     ]
    },
    {
     "name": "stdout",
     "output_type": "stream",
     "text": [
      "Best Parameters: {'C': 4.869640941520899, 'penalty': 'l2', 'solver': 'liblinear'}\n",
      "Best CV Accuracy: 0.8204130311970372\n"
     ]
    },
    {
     "name": "stderr",
     "output_type": "stream",
     "text": [
      "/usr/local/lib/python3.11/dist-packages/sklearn/model_selection/_validation.py:378: FitFailedWarning: \n",
      "70 fits failed out of a total of 250.\n",
      "The score on these train-test partitions for these parameters will be set to nan.\n",
      "If these failures are not expected, you can try to debug them by setting error_score='raise'.\n",
      "\n",
      "Below are more details about the failures:\n",
      "--------------------------------------------------------------------------------\n",
      "30 fits failed with the following error:\n",
      "Traceback (most recent call last):\n",
      "  File \"/usr/local/lib/python3.11/dist-packages/sklearn/model_selection/_validation.py\", line 686, in _fit_and_score\n",
      "    estimator.fit(X_train, y_train, **fit_params)\n",
      "  File \"/usr/local/lib/python3.11/dist-packages/sklearn/linear_model/_logistic.py\", line 1162, in fit\n",
      "    solver = _check_solver(self.solver, self.penalty, self.dual)\n",
      "             ^^^^^^^^^^^^^^^^^^^^^^^^^^^^^^^^^^^^^^^^^^^^^^^^^^^\n",
      "  File \"/usr/local/lib/python3.11/dist-packages/sklearn/linear_model/_logistic.py\", line 64, in _check_solver\n",
      "    raise ValueError(\n",
      "ValueError: Only 'saga' solver supports elasticnet penalty, got solver=liblinear.\n",
      "\n",
      "--------------------------------------------------------------------------------\n",
      "40 fits failed with the following error:\n",
      "Traceback (most recent call last):\n",
      "  File \"/usr/local/lib/python3.11/dist-packages/sklearn/model_selection/_validation.py\", line 686, in _fit_and_score\n",
      "    estimator.fit(X_train, y_train, **fit_params)\n",
      "  File \"/usr/local/lib/python3.11/dist-packages/sklearn/linear_model/_logistic.py\", line 1291, in fit\n",
      "    fold_coefs_ = Parallel(n_jobs=self.n_jobs, verbose=self.verbose, prefer=prefer)(\n",
      "                  ^^^^^^^^^^^^^^^^^^^^^^^^^^^^^^^^^^^^^^^^^^^^^^^^^^^^^^^^^^^^^^^^^^\n",
      "  File \"/usr/local/lib/python3.11/dist-packages/sklearn/utils/parallel.py\", line 63, in __call__\n",
      "    return super().__call__(iterable_with_config)\n",
      "           ^^^^^^^^^^^^^^^^^^^^^^^^^^^^^^^^^^^^^^\n",
      "  File \"/usr/local/lib/python3.11/dist-packages/joblib/parallel.py\", line 1986, in __call__\n",
      "    return output if self.return_generator else list(output)\n",
      "                                                ^^^^^^^^^^^^\n",
      "  File \"/usr/local/lib/python3.11/dist-packages/joblib/parallel.py\", line 1914, in _get_sequential_output\n",
      "    res = func(*args, **kwargs)\n",
      "          ^^^^^^^^^^^^^^^^^^^^^\n",
      "  File \"/usr/local/lib/python3.11/dist-packages/sklearn/utils/parallel.py\", line 123, in __call__\n",
      "    return self.function(*args, **kwargs)\n",
      "           ^^^^^^^^^^^^^^^^^^^^^^^^^^^^^^\n",
      "  File \"/usr/local/lib/python3.11/dist-packages/sklearn/linear_model/_logistic.py\", line 521, in _logistic_regression_path\n",
      "    alpha = (1.0 / C) * (1 - l1_ratio)\n",
      "                         ~~^~~~~~~~~~\n",
      "TypeError: unsupported operand type(s) for -: 'int' and 'NoneType'\n",
      "\n",
      "  warnings.warn(some_fits_failed_message, FitFailedWarning)\n",
      "/usr/local/lib/python3.11/dist-packages/sklearn/model_selection/_search.py:952: UserWarning: One or more of the test scores are non-finite: [0.7666311  0.81929571        nan 0.66337957        nan 0.70263637\n",
      " 0.66786768 0.77671835 0.7878727  0.794608          nan 0.70937794\n",
      " 0.77333501        nan 0.79796623 0.79573159 0.794608          nan\n",
      " 0.66899127 0.69814199 0.74304815 0.79349068        nan 0.794608\n",
      " 0.81928944 0.82041303 0.79349068 0.79573159 0.79459544 0.69033331\n",
      " 0.69482142 0.65438453        nan        nan 0.79573159 0.73520808\n",
      " 0.81704224        nan        nan        nan 0.78339715 0.81929571\n",
      "        nan 0.78674911 0.79573159        nan 0.79684891 0.8170548\n",
      "        nan 0.66899127]\n",
      "  warnings.warn(\n"
     ]
    }
   ],
   "source": [
    "from sklearn.model_selection import RandomizedSearchCV\n",
    "from sklearn.linear_model import LogisticRegression\n",
    "from scipy.stats import loguniform\n",
    "\n",
    "# Base model\n",
    "log_model = LogisticRegression(max_iter=5000, random_state=42)\n",
    "\n",
    "# Parameter grid for RandomizedSearchCV\n",
    "param_distributions = {\n",
    "    'C': loguniform(0.001, 10),               # Regularization strength\n",
    "    'penalty': ['l1', 'l2', 'elasticnet'],    # Regularization type\n",
    "    'solver': ['liblinear', 'saga'],          # solvers compatible with penalties\n",
    "}\n",
    "\n",
    "# Randomized search\n",
    "log_search = RandomizedSearchCV(\n",
    "    estimator=log_model,\n",
    "    param_distributions=param_distributions,\n",
    "    n_iter=50,             # Number of parameter settings sampled\n",
    "    scoring='accuracy',\n",
    "    cv=5,\n",
    "    random_state=42,\n",
    "    n_jobs=-1\n",
    ")\n",
    "\n",
    "# Fit search\n",
    "log_search.fit(X_train, y_train)\n",
    "\n",
    "# Best results\n",
    "print(\"Best Parameters:\", log_search.best_params_)\n",
    "print(\"Best CV Accuracy:\", log_search.best_score_)"
   ]
  },
  {
   "cell_type": "code",
   "execution_count": 45,
   "id": "3f755f87",
   "metadata": {
    "execution": {
     "iopub.execute_input": "2025-10-25T15:30:40.552341Z",
     "iopub.status.busy": "2025-10-25T15:30:40.551657Z",
     "iopub.status.idle": "2025-10-25T15:30:40.566348Z",
     "shell.execute_reply": "2025-10-25T15:30:40.565351Z"
    },
    "papermill": {
     "duration": 0.029481,
     "end_time": "2025-10-25T15:30:40.567961",
     "exception": false,
     "start_time": "2025-10-25T15:30:40.538480",
     "status": "completed"
    },
    "tags": []
   },
   "outputs": [],
   "source": [
    "from sklearn.linear_model import LogisticRegression\n",
    "\n",
    "# Best tuned model (cleaned)\n",
    "model = LogisticRegression(\n",
    "    C = 4.869640941520899,  \n",
    "    penalty = 'l2',         \n",
    "    solver = 'liblinear',    \n",
    "    max_iter = 5000,\n",
    "    random_state = 42\n",
    ")\n",
    "\n",
    "# Fit the model\n",
    "model.fit(X_train, y_train)\n",
    "\n",
    "# Predict on test data\n",
    "y_prediction = model.predict(X_test)"
   ]
  },
  {
   "cell_type": "code",
   "execution_count": 46,
   "id": "23aaa9e4",
   "metadata": {
    "execution": {
     "iopub.execute_input": "2025-10-25T15:30:40.594085Z",
     "iopub.status.busy": "2025-10-25T15:30:40.593269Z",
     "iopub.status.idle": "2025-10-25T15:30:40.604825Z",
     "shell.execute_reply": "2025-10-25T15:30:40.604075Z"
    },
    "papermill": {
     "duration": 0.02584,
     "end_time": "2025-10-25T15:30:40.606270",
     "exception": false,
     "start_time": "2025-10-25T15:30:40.580430",
     "status": "completed"
    },
    "tags": []
   },
   "outputs": [
    {
     "data": {
      "text/html": [
       "<div>\n",
       "<style scoped>\n",
       "    .dataframe tbody tr th:only-of-type {\n",
       "        vertical-align: middle;\n",
       "    }\n",
       "\n",
       "    .dataframe tbody tr th {\n",
       "        vertical-align: top;\n",
       "    }\n",
       "\n",
       "    .dataframe thead th {\n",
       "        text-align: right;\n",
       "    }\n",
       "</style>\n",
       "<table border=\"1\" class=\"dataframe\">\n",
       "  <thead>\n",
       "    <tr style=\"text-align: right;\">\n",
       "      <th></th>\n",
       "      <th>PassengerId</th>\n",
       "      <th>Survived</th>\n",
       "    </tr>\n",
       "  </thead>\n",
       "  <tbody>\n",
       "    <tr>\n",
       "      <th>0</th>\n",
       "      <td>892</td>\n",
       "      <td>0</td>\n",
       "    </tr>\n",
       "    <tr>\n",
       "      <th>1</th>\n",
       "      <td>893</td>\n",
       "      <td>1</td>\n",
       "    </tr>\n",
       "    <tr>\n",
       "      <th>2</th>\n",
       "      <td>894</td>\n",
       "      <td>0</td>\n",
       "    </tr>\n",
       "  </tbody>\n",
       "</table>\n",
       "</div>"
      ],
      "text/plain": [
       "   PassengerId  Survived\n",
       "0          892         0\n",
       "1          893         1\n",
       "2          894         0"
      ]
     },
     "execution_count": 46,
     "metadata": {},
     "output_type": "execute_result"
    }
   ],
   "source": [
    "sample_submission = pd.read_csv('/kaggle/input/titanic/gender_submission.csv')\n",
    "sample_submission.head(3)"
   ]
  },
  {
   "cell_type": "code",
   "execution_count": 47,
   "id": "a480d1bf",
   "metadata": {
    "execution": {
     "iopub.execute_input": "2025-10-25T15:30:40.638916Z",
     "iopub.status.busy": "2025-10-25T15:30:40.638613Z",
     "iopub.status.idle": "2025-10-25T15:30:40.643594Z",
     "shell.execute_reply": "2025-10-25T15:30:40.642849Z"
    },
    "papermill": {
     "duration": 0.02621,
     "end_time": "2025-10-25T15:30:40.644822",
     "exception": false,
     "start_time": "2025-10-25T15:30:40.618612",
     "status": "completed"
    },
    "tags": []
   },
   "outputs": [],
   "source": [
    "submission = pd.DataFrame({\"PassengerId\": sample_submission['PassengerId'],\n",
    "                           'Survived': y_prediction})"
   ]
  },
  {
   "cell_type": "code",
   "execution_count": 48,
   "id": "213268d3",
   "metadata": {
    "execution": {
     "iopub.execute_input": "2025-10-25T15:30:40.670955Z",
     "iopub.status.busy": "2025-10-25T15:30:40.670657Z",
     "iopub.status.idle": "2025-10-25T15:30:40.676227Z",
     "shell.execute_reply": "2025-10-25T15:30:40.675482Z"
    },
    "papermill": {
     "duration": 0.019886,
     "end_time": "2025-10-25T15:30:40.677508",
     "exception": false,
     "start_time": "2025-10-25T15:30:40.657622",
     "status": "completed"
    },
    "tags": []
   },
   "outputs": [],
   "source": [
    "submission.to_csv(\"updated_submission.csv\", index=False)"
   ]
  }
 ],
 "metadata": {
  "kaggle": {
   "accelerator": "none",
   "dataSources": [
    {
     "databundleVersionId": 26502,
     "sourceId": 3136,
     "sourceType": "competition"
    }
   ],
   "dockerImageVersionId": 31153,
   "isGpuEnabled": false,
   "isInternetEnabled": false,
   "language": "python",
   "sourceType": "notebook"
  },
  "kernelspec": {
   "display_name": "Python 3",
   "language": "python",
   "name": "python3"
  },
  "language_info": {
   "codemirror_mode": {
    "name": "ipython",
    "version": 3
   },
   "file_extension": ".py",
   "mimetype": "text/x-python",
   "name": "python",
   "nbconvert_exporter": "python",
   "pygments_lexer": "ipython3",
   "version": "3.11.13"
  },
  "papermill": {
   "default_parameters": {},
   "duration": 85.554111,
   "end_time": "2025-10-25T15:30:43.308313",
   "environment_variables": {},
   "exception": null,
   "input_path": "__notebook__.ipynb",
   "output_path": "__notebook__.ipynb",
   "parameters": {},
   "start_time": "2025-10-25T15:29:17.754202",
   "version": "2.6.0"
  }
 },
 "nbformat": 4,
 "nbformat_minor": 5
}
